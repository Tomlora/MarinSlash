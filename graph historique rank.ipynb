{
 "cells": [
  {
   "cell_type": "code",
   "execution_count": 26,
   "metadata": {},
   "outputs": [],
   "source": [
    "from fonctions.gestion_bdd import lire_bdd_perso, sauvegarde_bdd\n",
    "from datetime import datetime\n",
    "import pandas as pd\n",
    "import matplotlib.pyplot as plt\n",
    "import numpy as np\n",
    "from matplotlib.collections import LineCollection\n",
    "from matplotlib.colors import ListedColormap, BoundaryNorm"
   ]
  },
  {
   "cell_type": "code",
   "execution_count": 27,
   "metadata": {},
   "outputs": [],
   "source": [
    "df = lire_bdd_perso('''select suivi_rank.*, tracker.riot_id, tracker.riot_tagline from suivi_rank\n",
    "                       inner join tracker on suivi_rank.index = tracker.id_compte\n",
    "                       where saison = 14 ''', index_col=None).T"
   ]
  },
  {
   "cell_type": "code",
   "execution_count": 33,
   "metadata": {},
   "outputs": [],
   "source": [
    "df[['index', 'wins', 'losses', 'LP', 'saison']] = df[['index', 'wins', 'losses', 'LP', 'saison']].astype(int)\n",
    "df['datetime'] = pd.to_datetime(df['datetime'])"
   ]
  },
  {
   "cell_type": "code",
   "execution_count": 34,
   "metadata": {},
   "outputs": [],
   "source": [
    "dict_points = {'F': 0,\n",
    "                                        'B': 400,\n",
    "                                        'S': 800,\n",
    "                                        'G': 1200,\n",
    "                                        'P': 1600,\n",
    "                                        'E' : 2000,\n",
    "                                        'D': 2400,\n",
    "                                        'M': 2800,\n",
    "                                        'GM': 3200,\n",
    "                                        'C': 5000,\n",
    "                                        'I': 300,\n",
    "                                        'II': 200,\n",
    "                                        'III': 100,\n",
    "                                        'IV': 0,\n",
    "                                        ' ': 0,\n",
    "                                        '': 0}\n",
    "        \n",
    "dict_color = {'fer' : {'background' : '#252430', 'courbe' : '#7c6f71'},\n",
    "                        'bronze' : {'background' : '#332a31', 'courbe' : '#785d4f'},\n",
    "                        'silver' : {'background' : '#323440', 'courbe' : '#727879'},\n",
    "                        'gold' : {'background' : '#352e31', 'courbe' : '#c88c3d'},\n",
    "                        'platine' : {'background' : '#213041', 'courbe' : '#43a9d4'},\n",
    "                        'emeraude' : {'background' : '#1d292b', 'courbe' : '#399a3f'},\n",
    "                        'diamant' : {'background' : '#332a52', 'courbe' : '#7b3fe8'},\n",
    "                        'master' : {'background' : '#58363c', 'courbe' : '#9f5c4f'},\n",
    "                        'gm' : {'background' : '#342631', 'courbe' : '#bb4e45'},\n",
    "                        'challenger' : {'background' : '#38353a', 'courbe' : '#f0cb78'}}"
   ]
  },
  {
   "cell_type": "code",
   "execution_count": 35,
   "metadata": {},
   "outputs": [],
   "source": [
    "def transfo_points(x):\n",
    "\n",
    "    value = x['ladder'].split(' ')[1]\n",
    "    if x['LP'] > 101 and x['ladder'][0] == 'G':\n",
    "        value = 'GM'\n",
    "    points = dict_points[x['ladder'][0]] + dict_points[value] + x['LP']\n",
    "    return points\n",
    "\n",
    "\n",
    "df['ladder'] = df['tier'].str[0] + ' ' + \\\n",
    "                                    df['rank'] + ' / ' + df['LP'].astype('str') + ' LP'\n",
    "\n",
    "\n",
    "df['points'] = df.apply(transfo_points, axis=1)\n",
    "                \n",
    "\n",
    "\n",
    "df = df[df['points'] > 50]"
   ]
  },
  {
   "cell_type": "code",
   "execution_count": 36,
   "metadata": {},
   "outputs": [
    {
     "data": {
      "image/png": "[encoded data removed]",
      "text/plain": [
       "<Figure size 1440x720 with 1 Axes>"
      ]
     },
     "metadata": {
      "needs_background": "light"
     },
     "output_type": "display_data"
    }
   ],
   "source": [
    "def creation_rank(value):\n",
    "            return [value + 0, value + 100, value + 200, value + 300]\n",
    "        \n",
    "fig, ax = plt.subplots(figsize=(20, 10))\n",
    "\n",
    "gap = 30"
   ]
  },
  {
   "cell_type": "code",
   "execution_count": 37,
   "metadata": {},
   "outputs": [
    {
     "name": "stderr",
     "output_type": "stream",
     "text": [
      "C:\\Users\\kevin\\AppData\\Local\\Temp\\ipykernel_528\\3395121013.py:10: VisibleDeprecationWarning: Creating an ndarray from ragged nested sequences (which is a list-or-tuple of lists-or-tuples-or ndarrays with different lengths or shapes) is deprecated. If you meant to do this, you must specify 'dtype=object' when creating the ndarray.\n",
      "  points = np.array([x, y]).T.reshape(-1, 1, 2)\n"
     ]
    }
   ],
   "source": [
    "def creation_ligne(df, nb_games, gap, ax):\n",
    "\n",
    "\n",
    "            # dates =np.linspace(0, 10000, 500)  pd.date_range(start=\"2023-01-01\", end=\"2023-12-31\", periods=500)  # Axe X : de janvier à décembre\n",
    "            x =  np.arange(gap, nb_games + gap, 1)\n",
    "            y = np.array(df['points'].tolist())               # Exemple de courbe : y = log(x + 1)\n",
    "\n",
    "\n",
    "\n",
    "            points = np.array([x, y]).T.reshape(-1, 1, 2)\n",
    "\n",
    "            segments = np.concatenate([points[:-1], points[1:]], axis=1)\n",
    "\n",
    "            cmap = ListedColormap([dict_color['fer']['courbe'],\n",
    "                                    dict_color['bronze']['courbe'],\n",
    "                                    dict_color['silver']['courbe'],\n",
    "                                    dict_color['gold']['courbe'],\n",
    "                                    dict_color['platine']['courbe'],\n",
    "                                    dict_color['emeraude']['courbe'],\n",
    "                                    dict_color['diamant']['courbe'],\n",
    "                                    dict_color['master']['courbe'],\n",
    "                                    dict_color['gm']['courbe'],\n",
    "                                    dict_color['challenger']['courbe']])\n",
    "            \n",
    "            norm = BoundaryNorm([50, dict_points['B'], dict_points['S'], dict_points['G'], dict_points['P'], dict_points['E'], dict_points['D'], dict_points['M'], dict_points['GM'], dict_points['C'], 12000], cmap.N)\n",
    "            lc = LineCollection(segments, cmap=cmap, norm=norm)\n",
    "            lc.set_array(y)\n",
    "            lc.set_linewidth(2)\n",
    "\n",
    "            return x, ax, lc\n",
    "\n",
    "x = 0       \n",
    "for joueur in df['riot_id'].unique():\n",
    "    df_filter = df[df['riot_id'] == joueur]\n",
    "    x1, ax, lc = creation_ligne(df, df_filter.shape[0], 50, ax)\n",
    "    line = ax.add_collection(lc)\n",
    "    x = max(x, x1)\n",
    "\n",
    "# Personnalisation du graphique\n",
    "ax.set_facecolor('#1e1e2f')  # Fond sombre\n",
    "ax.spines['bottom'].set_color('#ffffff')\n",
    "ax.spines['left'].set_color('#ffffff')\n",
    "ax.tick_params(colors='black')\n",
    "\n",
    "# Ajouter des lignes horizontales\n",
    "y_levels_fer = creation_rank(dict_points['F'])  \n",
    "y_levels_bronze = creation_rank(dict_points['B']) \n",
    "y_levels_silver = creation_rank(dict_points['S'])\n",
    "y_levels_gold = creation_rank(dict_points['G'])\n",
    "y_levels_plat = creation_rank(dict_points['P'])\n",
    "y_levels_emeraude = creation_rank(dict_points['E'])\n",
    "y_levels_diamant = creation_rank(dict_points['D'])\n",
    "y_levels_master = creation_rank(dict_points['M'])\n",
    "y_levels_gm = creation_rank(dict_points['GM'])\n",
    "y_levels_chal = creation_rank(dict_points['C'])\n",
    "\n",
    "liste_order = [4,3,2,1]"
   ]
  },
  {
   "cell_type": "code",
   "execution_count": 39,
   "metadata": {},
   "outputs": [
    {
     "data": {
      "image/png": "[encoded data removed]",
      "text/plain": [
       "<Figure size 432x288 with 1 Axes>"
      ]
     },
     "metadata": {
      "needs_background": "light"
     },
     "output_type": "display_data"
    }
   ],
   "source": [
    "if not df[df['points'].between(50, dict_points['B'])].empty:\n",
    "            # # Ajout des étiquettes\n",
    "                for i, level in enumerate(y_levels_fer):\n",
    "                    ax.axhline(y=level, color=dict_color['fer']['courbe'], linestyle='--', linewidth=0.8)  # Ligne pointillée\n",
    "                    ax.text(gap, level, f'F{liste_order[i]}', color=dict_color['fer']['courbe'], fontsize=20, va='bottom')\n",
    "\n",
    "                ax.axhspan(50, dict_points['B'], facecolor=dict_color['fer']['background'], alpha=0.3)\n",
    "\n",
    "if not df[df['points'].between(dict_points['B'], dict_points['S'])].empty:\n",
    "        for i, level in enumerate(y_levels_bronze):\n",
    "            ax.axhline(y=level, color=dict_color['bronze']['courbe'], linestyle='--', linewidth=0.8)  # Ligne pointillée\n",
    "            ax.text(gap, level, f'B{liste_order[i]}', color=dict_color['bronze']['courbe'], fontsize=20, va='bottom')\n",
    "\n",
    "        ax.axhspan(dict_points['B'], dict_points['S'], facecolor=dict_color['bronze']['background'], alpha=0.3)\n",
    "\n",
    "if not df[df['points'].between(dict_points['S'], dict_points['G'])].empty:\n",
    "        for i, level in enumerate(y_levels_silver):\n",
    "            ax.axhline(y=level, color=dict_color['silver']['courbe'], linestyle='--', linewidth=0.8)  # Ligne pointillée\n",
    "            ax.text(gap, level, f'S{liste_order[i]}', color=dict_color['silver']['courbe'], fontsize=20, va='bottom')\n",
    "\n",
    "        ax.axhspan(dict_points['S'], dict_points['G'], facecolor=dict_color['silver']['background'], alpha=0.3)\n",
    "\n",
    "if not df[df['points'].between(dict_points['G'], dict_points['P'])].empty:\n",
    "        for i, level in enumerate(y_levels_gold):\n",
    "            ax.axhline(y=level, color=dict_color['gold']['courbe'], linestyle='--', linewidth=0.8)  # Ligne pointillée\n",
    "            ax.text(gap, level, f'G{liste_order[i]}', color=dict_color['gold']['courbe'], fontsize=20, va='bottom')\n",
    "\n",
    "        ax.axhspan(dict_points['G'], dict_points['P'], facecolor=dict_color['gold']['background'], alpha=0.3)\n",
    "\n",
    "if not df[df['points'].between(dict_points['P'], dict_points['E'])].empty:\n",
    "        for i, level in enumerate(y_levels_plat):\n",
    "            ax.axhline(y=level, color=dict_color['platine']['courbe'], linestyle='--', linewidth=0.8)  # Ligne pointillée\n",
    "            ax.text(gap, level, f'P{liste_order[i]}', color=dict_color['platine']['courbe'], fontsize=20, va='bottom')\n",
    "\n",
    "        ax.axhspan(dict_points['P'], dict_points['E'], facecolor=dict_color['platine']['background'], alpha=0.3)\n",
    "\n",
    "if not df[df['points'].between(dict_points['E'], dict_points['D'])].empty:\n",
    "        for i, level in enumerate(y_levels_emeraude):\n",
    "            ax.axhline(y=level, color=dict_color['emeraude']['courbe'], linestyle='--', linewidth=0.8)  # Ligne pointillée\n",
    "            ax.text(gap, level, f'E{liste_order[i]}', color=dict_color['emeraude']['courbe'], fontsize=20, va='bottom')\n",
    "\n",
    "        ax.axhspan(dict_points['E'], dict_points['D'], facecolor=dict_color['emeraude']['background'], alpha=0.3)\n",
    "\n",
    "if not df[df['points'].between(dict_points['D'], dict_points['M'])].empty:\n",
    "        for i, level in enumerate(y_levels_diamant):\n",
    "            ax.axhline(y=level, color=dict_color['diamant']['courbe'], linestyle='--', linewidth=0.8)  # Ligne pointillée\n",
    "            ax.text(gap, level, f'D{liste_order[i]}', color=dict_color['diamant']['courbe'], fontsize=20, va='bottom')\n",
    "\n",
    "        ax.axhspan(dict_points['D'], dict_points['M'], facecolor=dict_color['diamant']['background'], alpha=0.3)\n",
    "\n",
    "if not df[df['points'].between(dict_points['M'], dict_points['GM'])].empty:\n",
    "        for i, level in enumerate(y_levels_master):\n",
    "            ax.axhline(y=level, color=dict_color['master']['courbe'], linestyle='--', linewidth=0.8)  # Ligne pointillée\n",
    "            ax.text(gap, level, f'M', color=dict_color['master']['courbe'], fontsize=20, va='bottom')\n",
    "\n",
    "        ax.axhspan(dict_points['M'], dict_points['GM'], facecolor=dict_color['master']['background'], alpha=0.3)\n",
    "\n",
    "\n",
    "if not df[df['points'].between(dict_points['GM'], dict_points['C'])].empty:\n",
    "                # for i, level in enumerate(y_levels_gm):\n",
    "        ax.axhline(y=dict_points['GM'], color=dict_color['gm']['courbe'], linestyle='--', linewidth=0.8)  # Ligne pointillée\n",
    "        ax.text(gap, dict_points['GM'], f'GM', color=dict_color['gm']['courbe'], fontsize=20, va='bottom')\n",
    "\n",
    "        ax.axhspan(dict_points['GM'], dict_points['C'], facecolor=dict_color['gm']['background'], alpha=0.3)\n",
    "\n",
    "if not df[df['points'].between(dict_points['C'], 11000)].empty:\n",
    "                # for i, level in enumerate(y_levels_chal):\n",
    "        ax.axhline(y=dict_points['C'], color=dict_color['challenger']['courbe'], linestyle='--', linewidth=0.8)  # Ligne pointillée\n",
    "        ax.text(gap, dict_points['C'], f'C', color=dict_color['challenger']['courbe'], fontsize=20, va='bottom')\n",
    "\n",
    "        ax.axhspan(dict_points['C'], 11000, facecolor=dict_color['challenger']['background'], alpha=0.3)\n",
    "\n",
    "        for index, data in df[df['points'] > dict_points['M']].iloc[::10].iterrows():\n",
    "\n",
    "            plt.annotate(f'{data[\"LP\"]:.0f}', \n",
    "                                (index+gap, data['points']), \n",
    "                                ha='center', \n",
    "                                fontsize=15,\n",
    "                                color='white')\n",
    "    "
   ]
  },
  {
   "cell_type": "code",
   "execution_count": 43,
   "metadata": {},
   "outputs": [
    {
     "data": {
      "image/png": "[encoded data removed]",
      "text/plain": [
       "<Figure size 1440x720 with 1 Axes>"
      ]
     },
     "execution_count": 43,
     "metadata": {},
     "output_type": "execute_result"
    }
   ],
   "source": [
    "ax.set_xlim([gap, 50 + gap])\n",
    "\n",
    "        # Trouver le multiple de 400 le plus proche pour le minimum (vers 0)\n",
    "\n",
    "\n",
    "min_multiple_400 = np.floor(df[df['points'] > 50]['points'].min() / 400) * 400\n",
    "        \n",
    "\n",
    "\n",
    "\n",
    "max_multiple_400 = np.ceil(df['points'].max() / 400) * 400\n",
    "\n",
    "\n",
    "\n",
    "ax.set_ylim([min_multiple_400, max_multiple_400])\n",
    "\n",
    "        # Désactiver les valeurs de l'axe Y\n",
    "ax.yaxis.set_ticks([])\n",
    "\n",
    "\n",
    "        # Ajouter des annotations toutes les 50 valeurs de x\n",
    "for i in range(gap, len(x), gap):  # On prend tous les 50 indices\n",
    "    plt.annotate(f'{x[i]-gap:.0f}', \n",
    "        (x[i], min_multiple_400+10), \n",
    "                        ha='center', \n",
    "                        fontsize=15,\n",
    "                        color='white')\n",
    "\n",
    "fig.subplots_adjust(bottom = 0)\n",
    "fig.subplots_adjust(top = 1)\n",
    "fig.subplots_adjust(right = 1)\n",
    "fig.subplots_adjust(left = 0)\n",
    "\n",
    "\n",
    "\n",
    "fig\n"
   ]
  }
 ],
 "metadata": {
  "kernelspec": {
   "display_name": ".venv",
   "language": "python",
   "name": "python3"
  },
  "language_info": {
   "codemirror_mode": {
    "name": "ipython",
    "version": 3
   },
   "file_extension": ".py",
   "mimetype": "text/x-python",
   "name": "python",
   "nbconvert_exporter": "python",
   "pygments_lexer": "ipython3",
   "version": "3.10.9"
  }
 },
 "nbformat": 4,
 "nbformat_minor": 2
}
