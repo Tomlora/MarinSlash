{
 "cells": [
  {
   "cell_type": "code",
   "execution_count": 1,
   "metadata": {},
   "outputs": [],
   "source": [
    "import pandas as pd\n",
    "import pickle\n",
    "from fonctions.gestion_bdd import lire_bdd, sauvegarde_bdd\n",
    "from fonctions.gestion_fichier import loadData, writeData, loadDataFL, loadDataRate"
   ]
  },
  {
   "cell_type": "code",
   "execution_count": 2,
   "metadata": {},
   "outputs": [
    {
     "data": {
      "text/plain": [
       "{'KDA': {'Score': 37.0, 'Champion': 'Nami', 'Joueur': 'chatobogan'},\n",
       " 'KP': {'Score': 94, 'Champion': 'Rammus', 'Joueur': 'ylarabka'},\n",
       " 'CS': {'Score': 343, 'Champion': 'Kaisa', 'Joueur': 'tomlora'},\n",
       " 'CS/MIN': {'Score': 10.01, 'Champion': 'Karthus', 'Joueur': 'ylarabka'},\n",
       " 'KILLS': {'Score': 22, 'Champion': 'Kaisa', 'Joueur': 'tomlora'},\n",
       " 'DEATHS': {'Score': 17, 'Champion': 'Karthus', 'Joueur': 'ylarabka'},\n",
       " 'ASSISTS': {'Score': 39, 'Champion': 'Nami', 'Joueur': 'namiyeon'},\n",
       " 'WARDS_SCORE': {'Score': 161, 'Champion': 'Rakan', 'Joueur': 'exorblue'},\n",
       " 'WARDS_POSEES': {'Score': 88, 'Champion': 'Rakan', 'Joueur': 'exorblue'},\n",
       " 'WARDS_DETRUITES': {'Score': 29,\n",
       "  'Champion': 'Zyra',\n",
       "  'Joueur': 'nukethestars'},\n",
       " 'WARDS_PINKS': {'Score': 23, 'Champion': 'Nami', 'Joueur': 'namiyeon'},\n",
       " 'DEGATS_INFLIGES': {'Score': 63373,\n",
       "  'Champion': 'Karthus',\n",
       "  'Joueur': 'ylarabka'},\n",
       " '% DMG': {'Score': 47.54, 'Champion': 'Xayah', 'Joueur': 'tomlora'},\n",
       " 'DOUBLE': {'Score': 5, 'Champion': 'Kaisa', 'Joueur': 'tomlora'},\n",
       " 'TRIPLE': {'Score': 2, 'Champion': 'Aphelios', 'Joueur': 'tomlora'},\n",
       " 'QUADRA': {'Score': 1, 'Champion': 'Aphelios', 'Joueur': 'tomlora'},\n",
       " 'PENTA': {'Score': 1, 'Champion': 'Jinx', 'Joueur': 'tomlora'},\n",
       " 'DUREE_GAME': {'Score': 61.47, 'Champion': 'Rakan', 'Joueur': 'exorblue'}}"
      ]
     },
     "execution_count": 2,
     "metadata": {},
     "output_type": "execute_result"
    }
   ],
   "source": [
    "records1 = loadData('records')\n",
    "records1"
   ]
  },
  {
   "cell_type": "code",
   "execution_count": 3,
   "metadata": {},
   "outputs": [
    {
     "name": "stdout",
     "output_type": "stream",
     "text": [
      "                 Score  Champion        Joueur\n",
      "KDA               37.0      Nami    chatobogan\n",
      "KP                  94    Rammus      ylarabka\n",
      "CS                 343     Kaisa       tomlora\n",
      "CS/MIN           10.01   Karthus      ylarabka\n",
      "KILLS               22     Kaisa       tomlora\n",
      "DEATHS              17   Karthus      ylarabka\n",
      "ASSISTS             39      Nami      namiyeon\n",
      "WARDS_SCORE        161     Rakan      exorblue\n",
      "WARDS_POSEES        88     Rakan      exorblue\n",
      "WARDS_DETRUITES     29      Zyra  nukethestars\n",
      "WARDS_PINKS         23      Nami      namiyeon\n",
      "DEGATS_INFLIGES  63373   Karthus      ylarabka\n",
      "% DMG            47.54     Xayah       tomlora\n",
      "DOUBLE               5     Kaisa       tomlora\n",
      "TRIPLE               2  Aphelios       tomlora\n",
      "QUADRA               1  Aphelios       tomlora\n",
      "PENTA                1      Jinx       tomlora\n",
      "DUREE_GAME       61.47     Rakan      exorblue\n"
     ]
    },
    {
     "data": {
      "text/plain": [
       "{'KDA': {'Score': 37.0, 'Champion': 'Nami', 'Joueur': 'chatobogan'},\n",
       " 'KP': {'Score': 94.0, 'Champion': 'Rammus', 'Joueur': 'ylarabka'},\n",
       " 'CS': {'Score': 343.0, 'Champion': 'Kaisa', 'Joueur': 'tomlora'},\n",
       " 'CS/MIN': {'Score': 10.01, 'Champion': 'Karthus', 'Joueur': 'ylarabka'},\n",
       " 'KILLS': {'Score': 22.0, 'Champion': 'Kaisa', 'Joueur': 'tomlora'},\n",
       " 'DEATHS': {'Score': 17.0, 'Champion': 'Karthus', 'Joueur': 'ylarabka'},\n",
       " 'ASSISTS': {'Score': 39.0, 'Champion': 'Nami', 'Joueur': 'namiyeon'},\n",
       " 'WARDS_SCORE': {'Score': 161.0, 'Champion': 'Rakan', 'Joueur': 'exorblue'},\n",
       " 'WARDS_POSEES': {'Score': 88.0, 'Champion': 'Rakan', 'Joueur': 'exorblue'},\n",
       " 'WARDS_DETRUITES': {'Score': 29.0,\n",
       "  'Champion': 'Zyra',\n",
       "  'Joueur': 'nukethestars'},\n",
       " 'WARDS_PINKS': {'Score': 23.0, 'Champion': 'Nami', 'Joueur': 'namiyeon'},\n",
       " 'DEGATS_INFLIGES': {'Score': 63373.0,\n",
       "  'Champion': 'Karthus',\n",
       "  'Joueur': 'ylarabka'},\n",
       " '% DMG': {'Score': 47.54, 'Champion': 'Xayah', 'Joueur': 'tomlora'},\n",
       " 'DOUBLE': {'Score': 5.0, 'Champion': 'Kaisa', 'Joueur': 'tomlora'},\n",
       " 'TRIPLE': {'Score': 2.0, 'Champion': 'Aphelios', 'Joueur': 'tomlora'},\n",
       " 'QUADRA': {'Score': 1.0, 'Champion': 'Aphelios', 'Joueur': 'tomlora'},\n",
       " 'PENTA': {'Score': 1.0, 'Champion': 'Jinx', 'Joueur': 'tomlora'},\n",
       " 'DUREE_GAME': {'Score': 61.47, 'Champion': 'Rakan', 'Joueur': 'exorblue'}}"
      ]
     },
     "execution_count": 3,
     "metadata": {},
     "output_type": "execute_result"
    }
   ],
   "source": [
    "sauvegarde_bdd(records1, nom_table='records')\n",
    "df = lire_bdd('records', 'dict')\n",
    "df"
   ]
  },
  {
   "cell_type": "code",
   "execution_count": 4,
   "metadata": {},
   "outputs": [
    {
     "data": {
      "text/plain": [
       "{'SPELLS_USED': {'Score': 893, 'Champion': 'Karthus', 'Joueur': 'ylarabka'},\n",
       " 'BUFFS_VOLEES': {'Score': 4, 'Champion': 'Karthus', 'Joueur': 'ylarabka'},\n",
       " 'SPELLS_EVITES': {'Score': 474, 'Champion': 'Rammus', 'Joueur': 'ylarabka'},\n",
       " 'MUlTIKILL_1_SPELL': {'Score': 0, 'Champion': 'Ezreal', 'Joueur': 'Tomlora'},\n",
       " 'SOLOKILLS': {'Score': 8, 'Champion': 'Karthus', 'Joueur': 'ylarabka'},\n",
       " 'CS_APRES_10_MIN': {'Score': 94, 'Champion': 'Xayah', 'Joueur': 'tomlora'},\n",
       " 'SERIES_DE_KILLS': {'Score': 16, 'Champion': 'Aphelios', 'Joueur': 'tomlora'},\n",
       " 'NB_SERIES_DE_KILLS': {'Score': 7,\n",
       "  'Champion': 'Karthus',\n",
       "  'Joueur': 'ylarabka'},\n",
       " 'DOMMAGES_TANK': {'Score': 61709, 'Champion': 'Nasus', 'Joueur': 'kazsc'},\n",
       " 'DOMMAGES_TANK%': {'Score': 33.34, 'Champion': 'Nasus', 'Joueur': 'kazsc'},\n",
       " 'DOMMAGES_REDUITS': {'Score': 120557,\n",
       "  'Champion': 'Alistar',\n",
       "  'Joueur': 'nukethestars'},\n",
       " 'DOMMAGES_TOWER': {'Score': 38993, 'Champion': 'Ziggs', 'Joueur': 'linò'},\n",
       " 'GOLDS_GAGNES': {'Score': 25062, 'Champion': 'Kaisa', 'Joueur': 'tomlora'},\n",
       " 'TOTAL_HEALS': {'Score': 34997, 'Champion': 'Sona', 'Joueur': 'nukethestars'},\n",
       " 'HEALS_SUR_ALLIES': {'Score': 24195,\n",
       "  'Champion': 'Soraka',\n",
       "  'Joueur': 'nukethestars'}}"
      ]
     },
     "execution_count": 4,
     "metadata": {},
     "output_type": "execute_result"
    }
   ],
   "source": [
    "records2 = loadData('records2')\n",
    "records2\n"
   ]
  },
  {
   "cell_type": "code",
   "execution_count": 5,
   "metadata": {},
   "outputs": [
    {
     "name": "stdout",
     "output_type": "stream",
     "text": [
      "                     Score  Champion        Joueur\n",
      "SPELLS_USED            893   Karthus      ylarabka\n",
      "BUFFS_VOLEES             4   Karthus      ylarabka\n",
      "SPELLS_EVITES          474    Rammus      ylarabka\n",
      "MUlTIKILL_1_SPELL        0    Ezreal       Tomlora\n",
      "SOLOKILLS                8   Karthus      ylarabka\n",
      "CS_APRES_10_MIN         94     Xayah       tomlora\n",
      "SERIES_DE_KILLS         16  Aphelios       tomlora\n",
      "NB_SERIES_DE_KILLS       7   Karthus      ylarabka\n",
      "DOMMAGES_TANK        61709     Nasus         kazsc\n",
      "DOMMAGES_TANK%       33.34     Nasus         kazsc\n",
      "DOMMAGES_REDUITS    120557   Alistar  nukethestars\n",
      "DOMMAGES_TOWER       38993     Ziggs          linò\n",
      "GOLDS_GAGNES         25062     Kaisa       tomlora\n",
      "TOTAL_HEALS          34997      Sona  nukethestars\n",
      "HEALS_SUR_ALLIES     24195    Soraka  nukethestars\n"
     ]
    },
    {
     "data": {
      "text/plain": [
       "{'SPELLS_USED': {'Score': 893.0, 'Champion': 'Karthus', 'Joueur': 'ylarabka'},\n",
       " 'BUFFS_VOLEES': {'Score': 4.0, 'Champion': 'Karthus', 'Joueur': 'ylarabka'},\n",
       " 'SPELLS_EVITES': {'Score': 474.0, 'Champion': 'Rammus', 'Joueur': 'ylarabka'},\n",
       " 'MUlTIKILL_1_SPELL': {'Score': 0.0,\n",
       "  'Champion': 'Ezreal',\n",
       "  'Joueur': 'Tomlora'},\n",
       " 'SOLOKILLS': {'Score': 8.0, 'Champion': 'Karthus', 'Joueur': 'ylarabka'},\n",
       " 'CS_APRES_10_MIN': {'Score': 94.0, 'Champion': 'Xayah', 'Joueur': 'tomlora'},\n",
       " 'SERIES_DE_KILLS': {'Score': 16.0,\n",
       "  'Champion': 'Aphelios',\n",
       "  'Joueur': 'tomlora'},\n",
       " 'NB_SERIES_DE_KILLS': {'Score': 7.0,\n",
       "  'Champion': 'Karthus',\n",
       "  'Joueur': 'ylarabka'},\n",
       " 'DOMMAGES_TANK': {'Score': 61709.0, 'Champion': 'Nasus', 'Joueur': 'kazsc'},\n",
       " 'DOMMAGES_TANK%': {'Score': 33.34, 'Champion': 'Nasus', 'Joueur': 'kazsc'},\n",
       " 'DOMMAGES_REDUITS': {'Score': 120557.0,\n",
       "  'Champion': 'Alistar',\n",
       "  'Joueur': 'nukethestars'},\n",
       " 'DOMMAGES_TOWER': {'Score': 38993.0, 'Champion': 'Ziggs', 'Joueur': 'linò'},\n",
       " 'GOLDS_GAGNES': {'Score': 25062.0, 'Champion': 'Kaisa', 'Joueur': 'tomlora'},\n",
       " 'TOTAL_HEALS': {'Score': 34997.0,\n",
       "  'Champion': 'Sona',\n",
       "  'Joueur': 'nukethestars'},\n",
       " 'HEALS_SUR_ALLIES': {'Score': 24195.0,\n",
       "  'Champion': 'Soraka',\n",
       "  'Joueur': 'nukethestars'}}"
      ]
     },
     "execution_count": 5,
     "metadata": {},
     "output_type": "execute_result"
    }
   ],
   "source": [
    "sauvegarde_bdd(records2, nom_table='records2')\n",
    "df2 = lire_bdd('records2', 'dict')\n",
    "df2"
   ]
  },
  {
   "cell_type": "code",
   "execution_count": 6,
   "metadata": {},
   "outputs": [
    {
     "data": {
      "text/plain": [
       "{'PENTA': {'ylarabka': 0,\n",
       "  'kulbutoké': 0,\n",
       "  'tomlora': 1,\n",
       "  'chatobogan': 0,\n",
       "  'exorblue': 0,\n",
       "  'kazsc': 0,\n",
       "  'nukethestars': 0,\n",
       "  'linò': 0,\n",
       "  'namiyeon': 0,\n",
       "  'djingo': 0},\n",
       " 'QUADRA': {'ylarabka': 0,\n",
       "  'kulbutoké': 0,\n",
       "  'tomlora': 1,\n",
       "  'chatobogan': 0,\n",
       "  'exorblue': 0,\n",
       "  'kazsc': 0,\n",
       "  'nukethestars': 0,\n",
       "  'linò': 0,\n",
       "  'namiyeon': 0,\n",
       "  'djingo': 0},\n",
       " 'NBGAMES': {'ylarabka': 48.0,\n",
       "  'kulbutoké': 26.0,\n",
       "  'tomlora': 120.0,\n",
       "  'chatobogan': 46.0,\n",
       "  'exorblue': 26.0,\n",
       "  'kazsc': 2,\n",
       "  'nukethestars': 22,\n",
       "  'linò': 32,\n",
       "  'namiyeon': 62,\n",
       "  'djingo': 38},\n",
       " 'SOLOKILLS': {'ylarabka': 48,\n",
       "  'kulbutoké': 12,\n",
       "  'tomlora': 104,\n",
       "  'chatobogan': 38,\n",
       "  'exorblue': 6,\n",
       "  'kazsc': 1,\n",
       "  'nukethestars': 9,\n",
       "  'linò': 35,\n",
       "  'namiyeon': 6,\n",
       "  'djingo': 23},\n",
       " 'DUREE_GAME': {'ylarabka': 26.204166666666666,\n",
       "  'kulbutoké': 12.567000000000002,\n",
       "  'tomlora': 59.61900000000002,\n",
       "  'chatobogan': 24.101166666666664,\n",
       "  'exorblue': 13.984499999999997,\n",
       "  'kazsc': 1.0541666666666667,\n",
       "  'nukethestars': 11.263166666666669,\n",
       "  'linò': 15.908833333333334,\n",
       "  'namiyeon': 31.290000000000003,\n",
       "  'djingo': 19.952166666666667},\n",
       " 'WARDS_SCORE': {'ylarabka': 1487.0,\n",
       "  'kulbutoké': 571.0,\n",
       "  'tomlora': 2445.0,\n",
       "  'chatobogan': 2480.0,\n",
       "  'exorblue': 1312.0,\n",
       "  'kazsc': 58,\n",
       "  'nukethestars': 1647,\n",
       "  'linò': 1047,\n",
       "  'namiyeon': 4969,\n",
       "  'djingo': 1209},\n",
       " 'WARDS_POSEES': {'ylarabka': 443.0,\n",
       "  'kulbutoké': 280.0,\n",
       "  'tomlora': 1040.0,\n",
       "  'chatobogan': 1201.0,\n",
       "  'exorblue': 488.0,\n",
       "  'kazsc': 21,\n",
       "  'nukethestars': 678,\n",
       "  'linò': 355,\n",
       "  'namiyeon': 2837,\n",
       "  'djingo': 512},\n",
       " 'WARDS_DETRUITES': {'ylarabka': 283.0,\n",
       "  'kulbutoké': 53.0,\n",
       "  'tomlora': 337.0,\n",
       "  'chatobogan': 341.0,\n",
       "  'exorblue': 183.0,\n",
       "  'kazsc': 5,\n",
       "  'nukethestars': 239,\n",
       "  'linò': 132,\n",
       "  'namiyeon': 613,\n",
       "  'djingo': 105},\n",
       " 'WARDS_PINKS': {'ylarabka': 335.0,\n",
       "  'kulbutoké': 59.0,\n",
       "  'tomlora': 327.0,\n",
       "  'chatobogan': 329.0,\n",
       "  'exorblue': 189.0,\n",
       "  'kazsc': 5,\n",
       "  'nukethestars': 166,\n",
       "  'linò': 97,\n",
       "  'namiyeon': 672,\n",
       "  'djingo': 197},\n",
       " 'CS': {'ylarabka': 8803.0,\n",
       "  'kulbutoké': 3246.0,\n",
       "  'tomlora': 24472.0,\n",
       "  'chatobogan': 4476.0,\n",
       "  'exorblue': 3293.0,\n",
       "  'kazsc': 459,\n",
       "  'nukethestars': 900,\n",
       "  'linò': 7224,\n",
       "  'namiyeon': 1203,\n",
       "  'djingo': 7475},\n",
       " 'KILLS': {'ylarabka': 365.0,\n",
       "  'kulbutoké': 67.0,\n",
       "  'tomlora': 1001.0,\n",
       "  'chatobogan': 244.0,\n",
       "  'exorblue': 93.0,\n",
       "  'kazsc': 7,\n",
       "  'nukethestars': 70,\n",
       "  'linò': 198,\n",
       "  'namiyeon': 150,\n",
       "  'djingo': 242},\n",
       " 'DEATHS': {'ylarabka': 322.0,\n",
       "  'kulbutoké': 124.0,\n",
       "  'tomlora': 730.0,\n",
       "  'chatobogan': 185.0,\n",
       "  'exorblue': 122.0,\n",
       "  'kazsc': 5,\n",
       "  'nukethestars': 163,\n",
       "  'linò': 198,\n",
       "  'namiyeon': 186,\n",
       "  'djingo': 198},\n",
       " 'ASSISTS': {'ylarabka': 546.0,\n",
       "  'kulbutoké': 208.0,\n",
       "  'tomlora': 905.0,\n",
       "  'chatobogan': 539.0,\n",
       "  'exorblue': 307.0,\n",
       "  'kazsc': 6,\n",
       "  'nukethestars': 293,\n",
       "  'linò': 220,\n",
       "  'namiyeon': 1028,\n",
       "  'djingo': 289}}"
      ]
     },
     "execution_count": 6,
     "metadata": {},
     "output_type": "execute_result"
    }
   ],
   "source": [
    "records3 = loadData('records3')\n",
    "for key in records3.keys():\n",
    "    del records3[key]['Kazsc']\n",
    "    del records3[key]['Personne']\n",
    "    \n",
    "records3\n",
    "\n"
   ]
  },
  {
   "cell_type": "code",
   "execution_count": 7,
   "metadata": {},
   "outputs": [
    {
     "name": "stdout",
     "output_type": "stream",
     "text": [
      "                    ylarabka  kulbutoké    tomlora   chatobogan   exorblue  \\\n",
      "PENTA               0.000000      0.000      1.000     0.000000     0.0000   \n",
      "QUADRA              0.000000      0.000      1.000     0.000000     0.0000   \n",
      "NBGAMES            48.000000     26.000    120.000    46.000000    26.0000   \n",
      "SOLOKILLS          48.000000     12.000    104.000    38.000000     6.0000   \n",
      "DUREE_GAME         26.204167     12.567     59.619    24.101167    13.9845   \n",
      "WARDS_SCORE      1487.000000    571.000   2445.000  2480.000000  1312.0000   \n",
      "WARDS_POSEES      443.000000    280.000   1040.000  1201.000000   488.0000   \n",
      "WARDS_DETRUITES   283.000000     53.000    337.000   341.000000   183.0000   \n",
      "WARDS_PINKS       335.000000     59.000    327.000   329.000000   189.0000   \n",
      "CS               8803.000000   3246.000  24472.000  4476.000000  3293.0000   \n",
      "KILLS             365.000000     67.000   1001.000   244.000000    93.0000   \n",
      "DEATHS            322.000000    124.000    730.000   185.000000   122.0000   \n",
      "ASSISTS           546.000000    208.000    905.000   539.000000   307.0000   \n",
      "\n",
      "                      kazsc  nukethestars         linò  namiyeon       djingo  \n",
      "PENTA              0.000000      0.000000     0.000000      0.00     0.000000  \n",
      "QUADRA             0.000000      0.000000     0.000000      0.00     0.000000  \n",
      "NBGAMES            2.000000     22.000000    32.000000     62.00    38.000000  \n",
      "SOLOKILLS          1.000000      9.000000    35.000000      6.00    23.000000  \n",
      "DUREE_GAME         1.054167     11.263167    15.908833     31.29    19.952167  \n",
      "WARDS_SCORE       58.000000   1647.000000  1047.000000   4969.00  1209.000000  \n",
      "WARDS_POSEES      21.000000    678.000000   355.000000   2837.00   512.000000  \n",
      "WARDS_DETRUITES    5.000000    239.000000   132.000000    613.00   105.000000  \n",
      "WARDS_PINKS        5.000000    166.000000    97.000000    672.00   197.000000  \n",
      "CS               459.000000    900.000000  7224.000000   1203.00  7475.000000  \n",
      "KILLS              7.000000     70.000000   198.000000    150.00   242.000000  \n",
      "DEATHS             5.000000    163.000000   198.000000    186.00   198.000000  \n",
      "ASSISTS            6.000000    293.000000   220.000000   1028.00   289.000000  \n"
     ]
    }
   ],
   "source": [
    "sauvegarde_bdd(records3, nom_table='records3')\n",
    "df3 = lire_bdd('records3', 'dict')\n"
   ]
  },
  {
   "cell_type": "code",
   "execution_count": 8,
   "metadata": {},
   "outputs": [
    {
     "data": {
      "text/plain": [
       "float"
      ]
     },
     "execution_count": 8,
     "metadata": {},
     "output_type": "execute_result"
    }
   ],
   "source": [
    "type(df3['PENTA']['ylarabka'])"
   ]
  }
 ],
 "metadata": {
  "interpreter": {
   "hash": "06d3ad103a38a5e5980b0a2ddf222334b9b3630c94a7e75a8e45e8afe280f469"
  },
  "kernelspec": {
   "display_name": "Python 3.10.4 64-bit",
   "language": "python",
   "name": "python3"
  },
  "language_info": {
   "codemirror_mode": {
    "name": "ipython",
    "version": 3
   },
   "file_extension": ".py",
   "mimetype": "text/x-python",
   "name": "python",
   "nbconvert_exporter": "python",
   "pygments_lexer": "ipython3",
   "version": "3.10.4"
  },
  "orig_nbformat": 4
 },
 "nbformat": 4,
 "nbformat_minor": 2
}
