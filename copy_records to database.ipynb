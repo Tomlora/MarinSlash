{
 "cells": [
  {
   "cell_type": "code",
   "execution_count": 17,
   "metadata": {},
   "outputs": [],
   "source": [
    "import pandas as pd\n",
    "import pickle\n",
    "from fonctions.gestion_bdd import lire_bdd, sauvegarde_bdd\n",
    "from fonctions.gestion_fichier import loadData, writeData"
   ]
  },
  {
   "cell_type": "code",
   "execution_count": 18,
   "metadata": {},
   "outputs": [
    {
     "data": {
      "text/plain": [
       "{'KDA': {'Score': 37.0, 'Champion': 'Nami', 'Joueur': 'chatobogan'},\n",
       " 'KP': {'Score': 94, 'Champion': 'Rammus', 'Joueur': 'ylarabka'},\n",
       " 'CS': {'Score': 343, 'Champion': 'Kaisa', 'Joueur': 'tomlora'},\n",
       " 'CS/MIN': {'Score': 10.01, 'Champion': 'Karthus', 'Joueur': 'ylarabka'},\n",
       " 'KILLS': {'Score': 22, 'Champion': 'Kaisa', 'Joueur': 'tomlora'},\n",
       " 'DEATHS': {'Score': 17, 'Champion': 'Karthus', 'Joueur': 'ylarabka'},\n",
       " 'ASSISTS': {'Score': 39, 'Champion': 'Nami', 'Joueur': 'namiyeon'},\n",
       " 'WARDS_SCORE': {'Score': 161, 'Champion': 'Rakan', 'Joueur': 'exorblue'},\n",
       " 'WARDS_POSEES': {'Score': 88, 'Champion': 'Rakan', 'Joueur': 'exorblue'},\n",
       " 'WARDS_DETRUITES': {'Score': 29,\n",
       "  'Champion': 'Zyra',\n",
       "  'Joueur': 'nukethestars'},\n",
       " 'WARDS_PINKS': {'Score': 23, 'Champion': 'Nami', 'Joueur': 'namiyeon'},\n",
       " 'DEGATS_INFLIGES': {'Score': 63373,\n",
       "  'Champion': 'Karthus',\n",
       "  'Joueur': 'ylarabka'},\n",
       " '% DMG': {'Score': 47.54, 'Champion': 'Xayah', 'Joueur': 'tomlora'},\n",
       " 'DOUBLE': {'Score': 5, 'Champion': 'Kaisa', 'Joueur': 'tomlora'},\n",
       " 'TRIPLE': {'Score': 2, 'Champion': 'Aphelios', 'Joueur': 'tomlora'},\n",
       " 'QUADRA': {'Score': 1, 'Champion': 'Aphelios', 'Joueur': 'tomlora'},\n",
       " 'PENTA': {'Score': 1, 'Champion': 'Jinx', 'Joueur': 'tomlora'},\n",
       " 'DUREE_GAME': {'Score': 61.47, 'Champion': 'Rakan', 'Joueur': 'exorblue'}}"
      ]
     },
     "execution_count": 18,
     "metadata": {},
     "output_type": "execute_result"
    }
   ],
   "source": [
    "records1 = loadData('records')\n",
    "\n",
    "records1"
   ]
  },
  {
   "cell_type": "code",
   "execution_count": 19,
   "metadata": {},
   "outputs": [
    {
     "data": {
      "text/plain": [
       "{'KDA': {'Score': 37.0, 'Champion': 'Nami', 'Joueur': 'chatobogan'},\n",
       " 'KP': {'Score': 94.0, 'Champion': 'Rammus', 'Joueur': 'ylarabka'},\n",
       " 'CS': {'Score': 343.0, 'Champion': 'Kaisa', 'Joueur': 'tomlora'},\n",
       " 'CS/MIN': {'Score': 10.01, 'Champion': 'Karthus', 'Joueur': 'ylarabka'},\n",
       " 'KILLS': {'Score': 22.0, 'Champion': 'Kaisa', 'Joueur': 'tomlora'},\n",
       " 'DEATHS': {'Score': 17.0, 'Champion': 'Karthus', 'Joueur': 'ylarabka'},\n",
       " 'ASSISTS': {'Score': 39.0, 'Champion': 'Nami', 'Joueur': 'namiyeon'},\n",
       " 'WARDS_SCORE': {'Score': 161.0, 'Champion': 'Rakan', 'Joueur': 'exorblue'},\n",
       " 'WARDS_POSEES': {'Score': 88.0, 'Champion': 'Rakan', 'Joueur': 'exorblue'},\n",
       " 'WARDS_DETRUITES': {'Score': 29.0,\n",
       "  'Champion': 'Zyra',\n",
       "  'Joueur': 'nukethestars'},\n",
       " 'WARDS_PINKS': {'Score': 23.0, 'Champion': 'Nami', 'Joueur': 'namiyeon'},\n",
       " 'DEGATS_INFLIGES': {'Score': 63373.0,\n",
       "  'Champion': 'Karthus',\n",
       "  'Joueur': 'ylarabka'},\n",
       " '% DMG': {'Score': 47.54, 'Champion': 'Xayah', 'Joueur': 'tomlora'},\n",
       " 'DOUBLE': {'Score': 5.0, 'Champion': 'Kaisa', 'Joueur': 'tomlora'},\n",
       " 'TRIPLE': {'Score': 2.0, 'Champion': 'Aphelios', 'Joueur': 'tomlora'},\n",
       " 'QUADRA': {'Score': 1.0, 'Champion': 'Aphelios', 'Joueur': 'tomlora'},\n",
       " 'PENTA': {'Score': 1.0, 'Champion': 'Jinx', 'Joueur': 'tomlora'},\n",
       " 'DUREE_GAME': {'Score': 61.47, 'Champion': 'Rakan', 'Joueur': 'exorblue'}}"
      ]
     },
     "execution_count": 19,
     "metadata": {},
     "output_type": "execute_result"
    }
   ],
   "source": [
    "sauvegarde_bdd(records1, nom_table='records')\n",
    "df = lire_bdd('records')\n",
    "df"
   ]
  },
  {
   "cell_type": "code",
   "execution_count": 20,
   "metadata": {},
   "outputs": [
    {
     "data": {
      "text/plain": [
       "{'SPELLS_USED': {'Score': 893.0, 'Champion': 'Karthus', 'Joueur': 'ylarabka'},\n",
       " 'BUFFS_VOLEES': {'Score': 4.0, 'Champion': 'Karthus', 'Joueur': 'ylarabka'},\n",
       " 'SPELLS_EVITES': {'Score': 474.0, 'Champion': 'Rammus', 'Joueur': 'ylarabka'},\n",
       " 'MUlTIKILL_1_SPELL': {'Score': 0.0,\n",
       "  'Champion': 'Ezreal',\n",
       "  'Joueur': 'Tomlora'},\n",
       " 'SOLOKILLS': {'Score': 8.0, 'Champion': 'Karthus', 'Joueur': 'ylarabka'},\n",
       " 'CS_APRES_10_MIN': {'Score': 94.0, 'Champion': 'Xayah', 'Joueur': 'tomlora'},\n",
       " 'SERIES_DE_KILLS': {'Score': 16.0,\n",
       "  'Champion': 'Aphelios',\n",
       "  'Joueur': 'tomlora'},\n",
       " 'NB_SERIES_DE_KILLS': {'Score': 7.0,\n",
       "  'Champion': 'Karthus',\n",
       "  'Joueur': 'ylarabka'},\n",
       " 'DOMMAGES_TANK': {'Score': 61709.0, 'Champion': 'Nasus', 'Joueur': 'kazsc'},\n",
       " 'DOMMAGES_TANK%': {'Score': 33.34, 'Champion': 'Nasus', 'Joueur': 'kazsc'},\n",
       " 'DOMMAGES_REDUITS': {'Score': 120557.0,\n",
       "  'Champion': 'Alistar',\n",
       "  'Joueur': 'nukethestars'},\n",
       " 'DOMMAGES_TOWER': {'Score': 38993.0, 'Champion': 'Ziggs', 'Joueur': 'linò'},\n",
       " 'GOLDS_GAGNES': {'Score': 25062.0, 'Champion': 'Kaisa', 'Joueur': 'tomlora'},\n",
       " 'TOTAL_HEALS': {'Score': 34997.0,\n",
       "  'Champion': 'Sona',\n",
       "  'Joueur': 'nukethestars'},\n",
       " 'HEALS_SUR_ALLIES': {'Score': 24195.0,\n",
       "  'Champion': 'Soraka',\n",
       "  'Joueur': 'nukethestars'}}"
      ]
     },
     "execution_count": 20,
     "metadata": {},
     "output_type": "execute_result"
    }
   ],
   "source": [
    "records2 = loadData('records2')\n",
    "sauvegarde_bdd(records2, nom_table='records2')\n",
    "df2 = lire_bdd('records2')\n",
    "df2"
   ]
  },
  {
   "cell_type": "code",
   "execution_count": 21,
   "metadata": {},
   "outputs": [
    {
     "data": {
      "text/plain": [
       "{'PENTA': {'ylarabka': 0.0,\n",
       "  'kulbutoké': 0.0,\n",
       "  'tomlora': 1.0,\n",
       "  'chatobogan': 0.0,\n",
       "  'exorblue': 0.0,\n",
       "  'kazsc': 0.0,\n",
       "  'nukethestars': 0.0,\n",
       "  'linò': 0.0,\n",
       "  'namiyeon': 0.0,\n",
       "  'djingo': 0.0},\n",
       " 'QUADRA': {'ylarabka': 0.0,\n",
       "  'kulbutoké': 0.0,\n",
       "  'tomlora': 1.0,\n",
       "  'chatobogan': 0.0,\n",
       "  'exorblue': 0.0,\n",
       "  'kazsc': 0.0,\n",
       "  'nukethestars': 0.0,\n",
       "  'linò': 0.0,\n",
       "  'namiyeon': 0.0,\n",
       "  'djingo': 0.0},\n",
       " 'NBGAMES': {'ylarabka': 48.0,\n",
       "  'kulbutoké': 20.0,\n",
       "  'tomlora': 84.0,\n",
       "  'chatobogan': 28.0,\n",
       "  'exorblue': 26.0,\n",
       "  'kazsc': 2.0,\n",
       "  'nukethestars': 21.0,\n",
       "  'linò': 32.0,\n",
       "  'namiyeon': 57.0,\n",
       "  'djingo': 31.0},\n",
       " 'SOLOKILLS': {'ylarabka': 48.0,\n",
       "  'kulbutoké': 8.0,\n",
       "  'tomlora': 89.0,\n",
       "  'chatobogan': 21.0,\n",
       "  'exorblue': 6.0,\n",
       "  'kazsc': 1.0,\n",
       "  'nukethestars': 7.0,\n",
       "  'linò': 35.0,\n",
       "  'namiyeon': 6.0,\n",
       "  'djingo': 18.0},\n",
       " 'DUREE_GAME': {'ylarabka': 26.204166666666666,\n",
       "  'kulbutoké': 9.877833333333335,\n",
       "  'tomlora': 42.03916666666668,\n",
       "  'chatobogan': 15.552999999999997,\n",
       "  'exorblue': 13.984499999999997,\n",
       "  'kazsc': 1.0541666666666667,\n",
       "  'nukethestars': 10.702333333333335,\n",
       "  'linò': 15.908833333333334,\n",
       "  'namiyeon': 28.754833333333337,\n",
       "  'djingo': 16.174},\n",
       " 'WARDS_SCORE': {'ylarabka': 1487.0,\n",
       "  'kulbutoké': 478.0,\n",
       "  'tomlora': 1702.0,\n",
       "  'chatobogan': 1289.0,\n",
       "  'exorblue': 1312.0,\n",
       "  'kazsc': 58.0,\n",
       "  'nukethestars': 1537.0,\n",
       "  'linò': 1047.0,\n",
       "  'namiyeon': 4587.0,\n",
       "  'djingo': 997.0},\n",
       " 'WARDS_POSEES': {'ylarabka': 443.0,\n",
       "  'kulbutoké': 227.0,\n",
       "  'tomlora': 728.0,\n",
       "  'chatobogan': 616.0,\n",
       "  'exorblue': 488.0,\n",
       "  'kazsc': 21.0,\n",
       "  'nukethestars': 625.0,\n",
       "  'linò': 355.0,\n",
       "  'namiyeon': 2599.0,\n",
       "  'djingo': 423.0},\n",
       " 'WARDS_DETRUITES': {'ylarabka': 283.0,\n",
       "  'kulbutoké': 45.0,\n",
       "  'tomlora': 231.0,\n",
       "  'chatobogan': 178.0,\n",
       "  'exorblue': 183.0,\n",
       "  'kazsc': 5.0,\n",
       "  'nukethestars': 217.0,\n",
       "  'linò': 132.0,\n",
       "  'namiyeon': 568.0,\n",
       "  'djingo': 96.0},\n",
       " 'WARDS_PINKS': {'ylarabka': 335.0,\n",
       "  'kulbutoké': 46.0,\n",
       "  'tomlora': 230.0,\n",
       "  'chatobogan': 171.0,\n",
       "  'exorblue': 189.0,\n",
       "  'kazsc': 5.0,\n",
       "  'nukethestars': 159.0,\n",
       "  'linò': 97.0,\n",
       "  'namiyeon': 617.0,\n",
       "  'djingo': 164.0},\n",
       " 'CS': {'ylarabka': 8803.0,\n",
       "  'kulbutoké': 2553.0,\n",
       "  'tomlora': 17442.0,\n",
       "  'chatobogan': 3769.0,\n",
       "  'exorblue': 3293.0,\n",
       "  'kazsc': 459.0,\n",
       "  'nukethestars': 848.0,\n",
       "  'linò': 7224.0,\n",
       "  'namiyeon': 1109.0,\n",
       "  'djingo': 6015.0},\n",
       " 'KILLS': {'ylarabka': 365.0,\n",
       "  'kulbutoké': 50.0,\n",
       "  'tomlora': 761.0,\n",
       "  'chatobogan': 151.0,\n",
       "  'exorblue': 93.0,\n",
       "  'kazsc': 7.0,\n",
       "  'nukethestars': 65.0,\n",
       "  'linò': 198.0,\n",
       "  'namiyeon': 140.0,\n",
       "  'djingo': 206.0},\n",
       " 'DEATHS': {'ylarabka': 322.0,\n",
       "  'kulbutoké': 102.0,\n",
       "  'tomlora': 525.0,\n",
       "  'chatobogan': 109.0,\n",
       "  'exorblue': 122.0,\n",
       "  'kazsc': 5.0,\n",
       "  'nukethestars': 153.0,\n",
       "  'linò': 198.0,\n",
       "  'namiyeon': 167.0,\n",
       "  'djingo': 150.0},\n",
       " 'ASSISTS': {'ylarabka': 546.0,\n",
       "  'kulbutoké': 166.0,\n",
       "  'tomlora': 652.0,\n",
       "  'chatobogan': 361.0,\n",
       "  'exorblue': 307.0,\n",
       "  'kazsc': 6.0,\n",
       "  'nukethestars': 273.0,\n",
       "  'linò': 220.0,\n",
       "  'namiyeon': 958.0,\n",
       "  'djingo': 238.0}}"
      ]
     },
     "execution_count": 21,
     "metadata": {},
     "output_type": "execute_result"
    }
   ],
   "source": [
    "records3 = loadData('records3')\n",
    "for key in records3.keys():\n",
    "    del records3[key]['Kazsc']\n",
    "    del records3[key]['Personne']\n",
    "\n",
    "sauvegarde_bdd(records3, nom_table='records3')\n",
    "df3 = lire_bdd('records3')\n",
    "df3"
   ]
  }
 ],
 "metadata": {
  "interpreter": {
   "hash": "06d3ad103a38a5e5980b0a2ddf222334b9b3630c94a7e75a8e45e8afe280f469"
  },
  "kernelspec": {
   "display_name": "Python 3.10.4 64-bit",
   "language": "python",
   "name": "python3"
  },
  "language_info": {
   "codemirror_mode": {
    "name": "ipython",
    "version": 3
   },
   "file_extension": ".py",
   "mimetype": "text/x-python",
   "name": "python",
   "nbconvert_exporter": "python",
   "pygments_lexer": "ipython3",
   "version": "3.10.4"
  },
  "orig_nbformat": 4
 },
 "nbformat": 4,
 "nbformat_minor": 2
}
