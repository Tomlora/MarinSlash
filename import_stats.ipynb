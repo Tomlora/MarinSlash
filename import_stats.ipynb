{
 "cells": [
  {
   "cell_type": "code",
   "execution_count": 5,
   "metadata": {},
   "outputs": [],
   "source": [
    "from riotwatcher import LolWatcher\n",
    "import pandas as pd\n",
    "import numpy as np\n",
    "import warnings\n",
    "import time\n",
    "from tqdm import tqdm\n",
    "\n",
    "from fonctions.gestion_bdd import lire_bdd, sauvegarde_bdd\n",
    "from fonctions.match import matchlol\n",
    "\n",
    "\n",
    "warnings.simplefilter(action='ignore', category=FutureWarning)\n",
    "pd.options.mode.chained_assignment = None  # default='warn'\n",
    "\n",
    "import os\n",
    "\n",
    "api_key_lol = os.environ.get('API_LOL')  # https://www.youtube.com/watch?v=IolxqkL7cD8\n",
    "\n",
    "lol_watcher = LolWatcher(api_key_lol)\n",
    "my_region = 'euw1'\n",
    "region = \"EUROPE\"\n",
    "\n",
    "# Paramètres LoL\n",
    "# version = lol_watcher.data_dragon.versions_for_region(my_region)\n",
    "# champions_versions = version['n']['champion']"
   ]
  },
  {
   "cell_type": "code",
   "execution_count": 6,
   "metadata": {},
   "outputs": [],
   "source": [
    "suivi = lire_bdd('records3', 'dict')\n"
   ]
  },
  {
   "cell_type": "code",
   "execution_count": 7,
   "metadata": {},
   "outputs": [
    {
     "data": {
      "text/plain": [
       "['chatobogan',\n",
       " 'ylarabka',\n",
       " 'namiyeon',\n",
       " 'djingo',\n",
       " 'chguizou',\n",
       " 'tomlora',\n",
       " 'nukethestars',\n",
       " 'zyradelevingne',\n",
       " 'linò',\n",
       " 'kulbutoké',\n",
       " 'exorblue',\n",
       " 'kazsc']"
      ]
     },
     "execution_count": 7,
     "metadata": {},
     "output_type": "execute_result"
    }
   ],
   "source": [
    "summonername_list = list(set(suivi['PENTA'].keys()))\n",
    "summonername_list\n",
    "\n",
    "# duree_game, wards_score, wards_pinks"
   ]
  },
  {
   "cell_type": "code",
   "execution_count": 8,
   "metadata": {},
   "outputs": [
    {
     "name": "stderr",
     "output_type": "stream",
     "text": [
      "  0%|          | 0/12 [00:00<?, ?it/s]"
     ]
    },
    {
     "name": "stdout",
     "output_type": "stream",
     "text": [
      "chatobogan\n",
      "0/131\n",
      "10/131\n",
      "20/131\n",
      "30/131\n",
      "Erreur 503...\n",
      "40/131\n",
      "Erreur 503...\n",
      "50/132\n",
      "60/134\n",
      "70/135\n",
      "80/135\n",
      "90/136\n",
      "Erreur 503...\n",
      "0/37\n",
      "10/38\n",
      "20/39\n",
      "30/39\n",
      "40/41\n"
     ]
    },
    {
     "name": "stderr",
     "output_type": "stream",
     "text": [
      "  8%|▊         | 1/12 [08:13<1:30:26, 493.36s/it]"
     ]
    },
    {
     "name": "stdout",
     "output_type": "stream",
     "text": [
      "ylarabka\n",
      "0/79\n",
      "10/79\n",
      "20/79\n",
      "30/79\n",
      "40/79\n",
      "50/79\n",
      "60/81\n",
      "70/81\n",
      "80/81\n"
     ]
    },
    {
     "name": "stderr",
     "output_type": "stream",
     "text": [
      " 17%|█▋        | 2/12 [12:43<1:00:21, 362.14s/it]"
     ]
    },
    {
     "name": "stdout",
     "output_type": "stream",
     "text": [
      "namiyeon\n",
      "0/121\n",
      "10/121\n",
      "20/121\n",
      "30/121\n",
      "40/121\n",
      "50/121\n",
      "Erreur 503...\n",
      "60/121\n",
      "70/121\n",
      "80/121\n",
      "90/121\n",
      "Erreur 503...\n",
      "0/23\n",
      "10/23\n",
      "20/23\n"
     ]
    },
    {
     "name": "stderr",
     "output_type": "stream",
     "text": [
      " 25%|██▌       | 3/12 [19:48<58:36, 390.69s/it]  "
     ]
    },
    {
     "name": "stdout",
     "output_type": "stream",
     "text": [
      "djingo\n",
      "0/49\n",
      "10/50\n",
      "20/50\n",
      "Erreur 503...\n",
      "Erreur 503...\n",
      "30/50\n",
      "Erreur 503...\n",
      "40/50\n"
     ]
    },
    {
     "name": "stderr",
     "output_type": "stream",
     "text": [
      " 33%|███▎      | 4/12 [22:54<41:19, 309.98s/it]"
     ]
    },
    {
     "name": "stdout",
     "output_type": "stream",
     "text": [
      "chguizou\n",
      "0/13\n",
      "Erreur 503...\n",
      "10/13\n"
     ]
    },
    {
     "name": "stderr",
     "output_type": "stream",
     "text": [
      " 42%|████▏     | 5/12 [23:48<25:23, 217.69s/it]"
     ]
    },
    {
     "name": "stdout",
     "output_type": "stream",
     "text": [
      "tomlora\n",
      "0/296\n",
      "10/297\n",
      "20/297\n",
      "30/297\n",
      "40/297\n",
      "Erreur 503...\n",
      "50/298\n",
      "60/298\n",
      "70/298\n",
      "Erreur 503...\n",
      "80/299\n",
      "Erreur 503...\n",
      "90/300\n",
      "0/200\n",
      "10/201\n",
      "20/202\n",
      "30/202\n",
      "40/203\n",
      "50/205\n",
      "60/205\n",
      "70/205\n",
      "80/205\n",
      "90/206\n",
      "0/108\n",
      "10/109\n",
      "20/109\n",
      "Erreur 503...\n",
      "30/111\n",
      "Erreur 503...\n",
      "40/111\n",
      "50/112\n",
      "60/114\n",
      "70/114\n",
      "80/115\n",
      "90/115\n",
      "0/16\n",
      "10/17\n",
      "Erreur 503...\n"
     ]
    },
    {
     "name": "stderr",
     "output_type": "stream",
     "text": [
      " 50%|█████     | 6/12 [42:08<51:46, 517.70s/it]"
     ]
    },
    {
     "name": "stdout",
     "output_type": "stream",
     "text": [
      "nukethestars\n",
      "0/57\n",
      "10/57\n",
      "20/58\n",
      "Erreur 503...\n",
      "30/58\n",
      "40/59\n",
      "50/59\n"
     ]
    },
    {
     "name": "stderr",
     "output_type": "stream",
     "text": [
      " 58%|█████▊    | 7/12 [45:32<34:35, 415.19s/it]"
     ]
    },
    {
     "name": "stdout",
     "output_type": "stream",
     "text": [
      "zyradelevingne\n",
      "0/27\n",
      "10/27\n",
      "20/27\n",
      "Erreur 503...\n"
     ]
    },
    {
     "name": "stderr",
     "output_type": "stream",
     "text": [
      " 67%|██████▋   | 8/12 [47:15<21:02, 315.64s/it]"
     ]
    },
    {
     "name": "stdout",
     "output_type": "stream",
     "text": [
      "linò\n",
      "0/54\n",
      "10/55\n",
      "20/55\n",
      "30/56\n",
      "40/56\n",
      "50/57\n"
     ]
    },
    {
     "name": "stderr",
     "output_type": "stream",
     "text": [
      " 75%|███████▌  | 9/12 [50:26<13:50, 276.70s/it]"
     ]
    },
    {
     "name": "stdout",
     "output_type": "stream",
     "text": [
      "kulbutoké\n",
      "0/41\n",
      "10/43\n",
      "20/44\n",
      "30/44\n",
      "40/44\n"
     ]
    },
    {
     "name": "stderr",
     "output_type": "stream",
     "text": [
      " 83%|████████▎ | 10/12 [52:53<07:53, 236.84s/it]"
     ]
    },
    {
     "name": "stdout",
     "output_type": "stream",
     "text": [
      "exorblue\n",
      "0/49\n",
      "10/50\n",
      "20/50\n",
      "30/52\n",
      "40/52\n",
      "Erreur 503...\n",
      "50/52\n"
     ]
    },
    {
     "name": "stderr",
     "output_type": "stream",
     "text": [
      " 92%|█████████▏| 11/12 [55:55<03:39, 219.76s/it]"
     ]
    },
    {
     "name": "stdout",
     "output_type": "stream",
     "text": [
      "kazsc\n",
      "0/21\n",
      "10/21\n",
      "20/22\n"
     ]
    },
    {
     "name": "stderr",
     "output_type": "stream",
     "text": [
      "100%|██████████| 12/12 [57:08<00:00, 285.71s/it]\n"
     ]
    }
   ],
   "source": [
    "for summoner in tqdm(summonername_list):\n",
    "    index = 0\n",
    "    suivi['WARDS_SCORE'][summoner] = 0\n",
    "    suivi['WARDS_POSEES'][summoner] = 0\n",
    "    nbgames = int(suivi['NBGAMES'][summoner])\n",
    "    print(summoner)\n",
    "    \n",
    "    i = 0\n",
    "    while i <= 100 and i < nbgames:\n",
    "        \n",
    "        \n",
    "        if i == 100:\n",
    "            i = 0\n",
    "            index = index + 100\n",
    "            nbgames = nbgames - 100\n",
    "            \n",
    "        if i in np.arange(0,250,10,int).tolist() : print(f'{i}/{nbgames}')\n",
    "            \n",
    "        try:\n",
    "            match = matchlol(summoner, i, 420, index)\n",
    "        except:\n",
    "            print('Erreur 503...')\n",
    "            time.sleep(5)\n",
    "            match = matchlol(summoner, i, 420, index)\n",
    "                                                                               \n",
    "\n",
    "        if match.thisTime > 20:\n",
    "            suivi['WARDS_SCORE'][summoner] = suivi['WARDS_SCORE'][summoner] + int(match.thisVision)\n",
    "            suivi['WARDS_POSEES'][summoner] = suivi['WARDS_POSEES'][summoner] + int(match.thisWards)\n",
    "            \n",
    "        elif match.thisTime < 20:\n",
    "            nbgames = nbgames + 1\n",
    "            \n",
    "        i = i + 1    \n",
    "        time.sleep(3)\n",
    "        \n",
    "sauvegarde_bdd(suivi, 'records3')\n",
    "\n"
   ]
  }
 ],
 "metadata": {
  "kernelspec": {
   "display_name": "Python 3.10.4 64-bit",
   "language": "python",
   "name": "python3"
  },
  "language_info": {
   "codemirror_mode": {
    "name": "ipython",
    "version": 3
   },
   "file_extension": ".py",
   "mimetype": "text/x-python",
   "name": "python",
   "nbconvert_exporter": "python",
   "pygments_lexer": "ipython3",
   "version": "3.10.4"
  },
  "orig_nbformat": 4,
  "vscode": {
   "interpreter": {
    "hash": "06d3ad103a38a5e5980b0a2ddf222334b9b3630c94a7e75a8e45e8afe280f469"
   }
  }
 },
 "nbformat": 4,
 "nbformat_minor": 2
}
